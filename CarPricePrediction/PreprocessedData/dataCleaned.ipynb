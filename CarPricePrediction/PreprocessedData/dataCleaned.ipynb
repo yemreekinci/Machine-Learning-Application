{
 "cells": [
  {
   "cell_type": "code",
   "execution_count": null,
   "metadata": {},
   "outputs": [
    {
     "data": {
      "text/html": [
       "<div>\n",
       "<style scoped>\n",
       "    .dataframe tbody tr th:only-of-type {\n",
       "        vertical-align: middle;\n",
       "    }\n",
       "\n",
       "    .dataframe tbody tr th {\n",
       "        vertical-align: top;\n",
       "    }\n",
       "\n",
       "    .dataframe thead th {\n",
       "        text-align: right;\n",
       "    }\n",
       "</style>\n",
       "<table border=\"1\" class=\"dataframe\">\n",
       "  <thead>\n",
       "    <tr style=\"text-align: right;\">\n",
       "      <th></th>\n",
       "      <th>Brand</th>\n",
       "      <th>Model</th>\n",
       "      <th>Power</th>\n",
       "      <th>Mileage</th>\n",
       "      <th>Transmission</th>\n",
       "      <th>Fuel</th>\n",
       "      <th>Price</th>\n",
       "      <th>Vehicle_Age</th>\n",
       "    </tr>\n",
       "  </thead>\n",
       "  <tbody>\n",
       "    <tr>\n",
       "      <th>0</th>\n",
       "      <td>Skoda</td>\n",
       "      <td>Octavia</td>\n",
       "      <td>81</td>\n",
       "      <td></td>\n",
       "      <td>Automatic</td>\n",
       "      <td>Petrol</td>\n",
       "      <td>11199</td>\n",
       "      <td>8</td>\n",
       "    </tr>\n",
       "    <tr>\n",
       "      <th>1</th>\n",
       "      <td>Fiat</td>\n",
       "      <td>Ducato</td>\n",
       "      <td>103</td>\n",
       "      <td>90000km</td>\n",
       "      <td>Manual</td>\n",
       "      <td>Diesel</td>\n",
       "      <td>22749</td>\n",
       "      <td>3</td>\n",
       "    </tr>\n",
       "    <tr>\n",
       "      <th>2</th>\n",
       "      <td>Mercedes-Benz</td>\n",
       "      <td>Vito</td>\n",
       "      <td>120</td>\n",
       "      <td>170000km</td>\n",
       "      <td>Automatic</td>\n",
       "      <td>Diesel</td>\n",
       "      <td>19299</td>\n",
       "      <td>3</td>\n",
       "    </tr>\n",
       "    <tr>\n",
       "      <th>3</th>\n",
       "      <td>Chevrolet</td>\n",
       "      <td>Spark</td>\n",
       "      <td>50</td>\n",
       "      <td>161000km</td>\n",
       "      <td>Manual</td>\n",
       "      <td>Petrol</td>\n",
       "      <td>3399</td>\n",
       "      <td>12</td>\n",
       "    </tr>\n",
       "    <tr>\n",
       "      <th>4</th>\n",
       "      <td>Nissan</td>\n",
       "      <td>Micra</td>\n",
       "      <td>59</td>\n",
       "      <td>162000km</td>\n",
       "      <td>Manual</td>\n",
       "      <td>Petrol</td>\n",
       "      <td>2599</td>\n",
       "      <td>10</td>\n",
       "    </tr>\n",
       "  </tbody>\n",
       "</table>\n",
       "</div>"
      ],
      "text/plain": [
       "           Brand    Model Power   Mileage Transmission    Fuel  Price  \\\n",
       "0          Skoda  Octavia    81              Automatic  Petrol  11199   \n",
       "1           Fiat   Ducato   103   90000km       Manual  Diesel  22749   \n",
       "2  Mercedes-Benz     Vito   120  170000km    Automatic  Diesel  19299   \n",
       "3      Chevrolet    Spark    50  161000km       Manual  Petrol   3399   \n",
       "4         Nissan    Micra    59  162000km       Manual  Petrol   2599   \n",
       "\n",
       "   Vehicle_Age  \n",
       "0            8  \n",
       "1            3  \n",
       "2            3  \n",
       "3           12  \n",
       "4           10  "
      ]
     },
     "metadata": {},
     "output_type": "display_data"
    }
   ],
   "source": [
    "import pandas as pd\n",
    "from datetime import datetime\n",
    "\n",
    "parquet = \"../RawData/data.parquet\"\n",
    "df = pd.read_parquet(parquet)\n",
    "\n",
    "df['Date'] = pd.to_datetime(df['Date'], format='%m/%Y', errors='coerce')\n",
    "\n",
    "if df['Date'].isnull().any():\n",
    "    print(\"Hatalı tarih formatı olan satırlar:\")\n",
    "    print(df[df['Date'].isnull()])\n",
    "\n",
    "currentYear = datetime.now().year\n",
    "\n",
    "df['Vehicle_Age'] = currentYear - df['Date'].dt.year\n",
    "\n",
    "df = df.drop(columns=['Date'])\n",
    "df = df.drop(columns=['Drive Type'])\n",
    "\n",
    "df = df.dropna(how=\"any\")\n",
    "\n",
    "df.to_parquet(\"dataCleaned.parquet\", index=False)\n",
    "\n",
    "display(df.head())"
   ]
  },
  {
   "cell_type": "code",
   "execution_count": 3,
   "metadata": {},
   "outputs": [],
   "source": [
    "import numpy as np\n",
    "\n",
    "df['Mileage'] = df['Mileage'].replace([\"\", \"-\", \"None\"], np.nan)\n"
   ]
  },
  {
   "cell_type": "code",
   "execution_count": 4,
   "metadata": {},
   "outputs": [
    {
     "data": {
      "text/plain": [
       "Brand           0\n",
       "Model           0\n",
       "Power           0\n",
       "Mileage         1\n",
       "Transmission    0\n",
       "Fuel            0\n",
       "Price           0\n",
       "Vehicle_Age     0\n",
       "dtype: int64"
      ]
     },
     "execution_count": 4,
     "metadata": {},
     "output_type": "execute_result"
    }
   ],
   "source": [
    "df.isnull().sum()"
   ]
  },
  {
   "cell_type": "code",
   "execution_count": 6,
   "metadata": {},
   "outputs": [],
   "source": [
    "df.dropna(how='any', inplace=True)\n"
   ]
  },
  {
   "cell_type": "code",
   "execution_count": 7,
   "metadata": {},
   "outputs": [
    {
     "data": {
      "text/plain": [
       "Brand           0\n",
       "Model           0\n",
       "Power           0\n",
       "Mileage         0\n",
       "Transmission    0\n",
       "Fuel            0\n",
       "Price           0\n",
       "Vehicle_Age     0\n",
       "dtype: int64"
      ]
     },
     "execution_count": 7,
     "metadata": {},
     "output_type": "execute_result"
    }
   ],
   "source": [
    "df.isnull().sum()"
   ]
  },
  {
   "cell_type": "code",
   "execution_count": 8,
   "metadata": {},
   "outputs": [
    {
     "data": {
      "text/html": [
       "<div>\n",
       "<style scoped>\n",
       "    .dataframe tbody tr th:only-of-type {\n",
       "        vertical-align: middle;\n",
       "    }\n",
       "\n",
       "    .dataframe tbody tr th {\n",
       "        vertical-align: top;\n",
       "    }\n",
       "\n",
       "    .dataframe thead th {\n",
       "        text-align: right;\n",
       "    }\n",
       "</style>\n",
       "<table border=\"1\" class=\"dataframe\">\n",
       "  <thead>\n",
       "    <tr style=\"text-align: right;\">\n",
       "      <th></th>\n",
       "      <th>Brand</th>\n",
       "      <th>Model</th>\n",
       "      <th>Power</th>\n",
       "      <th>Mileage</th>\n",
       "      <th>Transmission</th>\n",
       "      <th>Fuel</th>\n",
       "      <th>Price</th>\n",
       "      <th>Vehicle_Age</th>\n",
       "    </tr>\n",
       "  </thead>\n",
       "  <tbody>\n",
       "    <tr>\n",
       "      <th>1</th>\n",
       "      <td>Fiat</td>\n",
       "      <td>Ducato</td>\n",
       "      <td>103</td>\n",
       "      <td>90000km</td>\n",
       "      <td>Manual</td>\n",
       "      <td>Diesel</td>\n",
       "      <td>22749</td>\n",
       "      <td>3</td>\n",
       "    </tr>\n",
       "    <tr>\n",
       "      <th>2</th>\n",
       "      <td>Mercedes-Benz</td>\n",
       "      <td>Vito</td>\n",
       "      <td>120</td>\n",
       "      <td>170000km</td>\n",
       "      <td>Automatic</td>\n",
       "      <td>Diesel</td>\n",
       "      <td>19299</td>\n",
       "      <td>3</td>\n",
       "    </tr>\n",
       "    <tr>\n",
       "      <th>3</th>\n",
       "      <td>Chevrolet</td>\n",
       "      <td>Spark</td>\n",
       "      <td>50</td>\n",
       "      <td>161000km</td>\n",
       "      <td>Manual</td>\n",
       "      <td>Petrol</td>\n",
       "      <td>3399</td>\n",
       "      <td>12</td>\n",
       "    </tr>\n",
       "    <tr>\n",
       "      <th>4</th>\n",
       "      <td>Nissan</td>\n",
       "      <td>Micra</td>\n",
       "      <td>59</td>\n",
       "      <td>162000km</td>\n",
       "      <td>Manual</td>\n",
       "      <td>Petrol</td>\n",
       "      <td>2599</td>\n",
       "      <td>10</td>\n",
       "    </tr>\n",
       "    <tr>\n",
       "      <th>5</th>\n",
       "      <td>Fiat</td>\n",
       "      <td>Doblo</td>\n",
       "      <td>66</td>\n",
       "      <td>55701km</td>\n",
       "      <td>Manual</td>\n",
       "      <td>Diesel</td>\n",
       "      <td>4699</td>\n",
       "      <td>9</td>\n",
       "    </tr>\n",
       "  </tbody>\n",
       "</table>\n",
       "</div>"
      ],
      "text/plain": [
       "           Brand   Model Power   Mileage Transmission    Fuel  Price  \\\n",
       "1           Fiat  Ducato   103   90000km       Manual  Diesel  22749   \n",
       "2  Mercedes-Benz    Vito   120  170000km    Automatic  Diesel  19299   \n",
       "3      Chevrolet   Spark    50  161000km       Manual  Petrol   3399   \n",
       "4         Nissan   Micra    59  162000km       Manual  Petrol   2599   \n",
       "5           Fiat   Doblo    66   55701km       Manual  Diesel   4699   \n",
       "\n",
       "   Vehicle_Age  \n",
       "1            3  \n",
       "2            3  \n",
       "3           12  \n",
       "4           10  \n",
       "5            9  "
      ]
     },
     "metadata": {},
     "output_type": "display_data"
    }
   ],
   "source": [
    "display(df.head())"
   ]
  },
  {
   "cell_type": "code",
   "execution_count": 9,
   "metadata": {},
   "outputs": [
    {
     "data": {
      "text/plain": [
       "Brand            0\n",
       "Model            2\n",
       "Power            0\n",
       "Mileage          0\n",
       "Transmission     0\n",
       "Fuel            46\n",
       "Price            0\n",
       "Vehicle_Age      0\n",
       "dtype: int64"
      ]
     },
     "execution_count": 9,
     "metadata": {},
     "output_type": "execute_result"
    }
   ],
   "source": [
    "df.replace([\"\", \"-\", \"None\"], np.nan, inplace=True)\n",
    "df.isnull().sum()"
   ]
  },
  {
   "cell_type": "code",
   "execution_count": 10,
   "metadata": {},
   "outputs": [],
   "source": [
    "df.dropna(how='any', inplace=True)\n"
   ]
  },
  {
   "cell_type": "code",
   "execution_count": 11,
   "metadata": {},
   "outputs": [
    {
     "data": {
      "text/plain": [
       "Brand           0\n",
       "Model           0\n",
       "Power           0\n",
       "Mileage         0\n",
       "Transmission    0\n",
       "Fuel            0\n",
       "Price           0\n",
       "Vehicle_Age     0\n",
       "dtype: int64"
      ]
     },
     "execution_count": 11,
     "metadata": {},
     "output_type": "execute_result"
    }
   ],
   "source": [
    "df.isnull().sum()"
   ]
  },
  {
   "cell_type": "code",
   "execution_count": null,
   "metadata": {},
   "outputs": [
    {
     "data": {
      "text/html": [
       "<div>\n",
       "<style scoped>\n",
       "    .dataframe tbody tr th:only-of-type {\n",
       "        vertical-align: middle;\n",
       "    }\n",
       "\n",
       "    .dataframe tbody tr th {\n",
       "        vertical-align: top;\n",
       "    }\n",
       "\n",
       "    .dataframe thead th {\n",
       "        text-align: right;\n",
       "    }\n",
       "</style>\n",
       "<table border=\"1\" class=\"dataframe\">\n",
       "  <thead>\n",
       "    <tr style=\"text-align: right;\">\n",
       "      <th></th>\n",
       "      <th>Brand</th>\n",
       "      <th>Model</th>\n",
       "      <th>Power</th>\n",
       "      <th>Mileage</th>\n",
       "      <th>Transmission</th>\n",
       "      <th>Fuel</th>\n",
       "      <th>Price</th>\n",
       "      <th>Vehicle_Age</th>\n",
       "    </tr>\n",
       "  </thead>\n",
       "  <tbody>\n",
       "    <tr>\n",
       "      <th>1</th>\n",
       "      <td>Fiat</td>\n",
       "      <td>Ducato</td>\n",
       "      <td>103</td>\n",
       "      <td>90000km</td>\n",
       "      <td>Manual</td>\n",
       "      <td>Diesel</td>\n",
       "      <td>22749</td>\n",
       "      <td>3</td>\n",
       "    </tr>\n",
       "    <tr>\n",
       "      <th>2</th>\n",
       "      <td>Mercedes-Benz</td>\n",
       "      <td>Vito</td>\n",
       "      <td>120</td>\n",
       "      <td>170000km</td>\n",
       "      <td>Automatic</td>\n",
       "      <td>Diesel</td>\n",
       "      <td>19299</td>\n",
       "      <td>3</td>\n",
       "    </tr>\n",
       "    <tr>\n",
       "      <th>3</th>\n",
       "      <td>Chevrolet</td>\n",
       "      <td>Spark</td>\n",
       "      <td>50</td>\n",
       "      <td>161000km</td>\n",
       "      <td>Manual</td>\n",
       "      <td>Petrol</td>\n",
       "      <td>3399</td>\n",
       "      <td>12</td>\n",
       "    </tr>\n",
       "    <tr>\n",
       "      <th>4</th>\n",
       "      <td>Nissan</td>\n",
       "      <td>Micra</td>\n",
       "      <td>59</td>\n",
       "      <td>162000km</td>\n",
       "      <td>Manual</td>\n",
       "      <td>Petrol</td>\n",
       "      <td>2599</td>\n",
       "      <td>10</td>\n",
       "    </tr>\n",
       "    <tr>\n",
       "      <th>5</th>\n",
       "      <td>Fiat</td>\n",
       "      <td>Doblo</td>\n",
       "      <td>66</td>\n",
       "      <td>55701km</td>\n",
       "      <td>Manual</td>\n",
       "      <td>Diesel</td>\n",
       "      <td>4699</td>\n",
       "      <td>9</td>\n",
       "    </tr>\n",
       "  </tbody>\n",
       "</table>\n",
       "</div>"
      ],
      "text/plain": [
       "           Brand   Model Power   Mileage Transmission    Fuel  Price  \\\n",
       "1           Fiat  Ducato   103   90000km       Manual  Diesel  22749   \n",
       "2  Mercedes-Benz    Vito   120  170000km    Automatic  Diesel  19299   \n",
       "3      Chevrolet   Spark    50  161000km       Manual  Petrol   3399   \n",
       "4         Nissan   Micra    59  162000km       Manual  Petrol   2599   \n",
       "5           Fiat   Doblo    66   55701km       Manual  Diesel   4699   \n",
       "\n",
       "   Vehicle_Age  \n",
       "1            3  \n",
       "2            3  \n",
       "3           12  \n",
       "4           10  \n",
       "5            9  "
      ]
     },
     "metadata": {},
     "output_type": "display_data"
    }
   ],
   "source": [
    "df.to_parquet(\"dataCleaned.parquet\", index=False)\n",
    "display(df.head())\n"
   ]
  }
 ],
 "metadata": {
  "kernelspec": {
   "display_name": "venv",
   "language": "python",
   "name": "python3"
  },
  "language_info": {
   "codemirror_mode": {
    "name": "ipython",
    "version": 3
   },
   "file_extension": ".py",
   "mimetype": "text/x-python",
   "name": "python",
   "nbconvert_exporter": "python",
   "pygments_lexer": "ipython3",
   "version": "3.10.0"
  }
 },
 "nbformat": 4,
 "nbformat_minor": 2
}
