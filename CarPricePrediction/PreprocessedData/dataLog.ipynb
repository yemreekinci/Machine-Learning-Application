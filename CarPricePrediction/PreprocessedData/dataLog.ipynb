{
 "cells": [
  {
   "cell_type": "code",
   "execution_count": null,
   "metadata": {},
   "outputs": [],
   "source": [
    "import numpy as np\n",
    "import pandas as pd\n",
    "\n",
    "# Veriyi yükle\n",
    "df = pd.read_parquet(\"dataEncoding.parquet\")\n",
    "\n",
    "# 'Power' ve 'Mileage' sütunlarını sayısal türe dönüştür\n",
    "df['Power'] = pd.to_numeric(df['Power'].str.extract(r'(\\d+)', expand=False), errors='coerce')\n",
    "df['Mileage'] = pd.to_numeric(df['Mileage'].str.replace(r'[^\\d.]', '', regex=True), errors='coerce')\n",
    "\n",
    "# Eksik değerleri kontrol et ve düşür\n",
    "df = df.dropna(subset=['Power', 'Mileage', 'Price'])\n",
    "\n",
    "# Log dönüşümünü uygula\n",
    "columns_to_transform = ['Power', 'Mileage', 'Price']\n",
    "for column in columns_to_transform:\n",
    "    df[column] = np.log1p(df[column])\n",
    "\n",
    "# Dönüşüm sonrası veriyi kaydet\n",
    "df.to_parquet('dataLog.parquet', index=False)\n"
   ]
  },
  {
   "cell_type": "code",
   "execution_count": 2,
   "metadata": {},
   "outputs": [
    {
     "name": "stdout",
     "output_type": "stream",
     "text": [
      "Brand                   object\n",
      "Model                   object\n",
      "Power                  float64\n",
      "Mileage                float64\n",
      "Fuel                    object\n",
      "Price                  float64\n",
      "Vehicle_Age              int32\n",
      "Brand_encoded          float64\n",
      "Model_encoded          float64\n",
      "Transmission_Manual       bool\n",
      "Fuel_encoded           float64\n",
      "dtype: object\n"
     ]
    }
   ],
   "source": [
    "print(df.dtypes)\n"
   ]
  }
 ],
 "metadata": {
  "kernelspec": {
   "display_name": "venv",
   "language": "python",
   "name": "python3"
  },
  "language_info": {
   "codemirror_mode": {
    "name": "ipython",
    "version": 3
   },
   "file_extension": ".py",
   "mimetype": "text/x-python",
   "name": "python",
   "nbconvert_exporter": "python",
   "pygments_lexer": "ipython3",
   "version": "3.10.0"
  }
 },
 "nbformat": 4,
 "nbformat_minor": 2
}
