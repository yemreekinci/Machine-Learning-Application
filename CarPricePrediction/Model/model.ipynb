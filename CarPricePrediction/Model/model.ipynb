{
 "cells": [
  {
   "cell_type": "code",
   "execution_count": null,
   "metadata": {},
   "outputs": [
    {
     "name": "stdout",
     "output_type": "stream",
     "text": [
      "Model 'LinearRegression' adıyla 'LinearRegressionModel.pkl' dosyasına kaydedildi.\n",
      "Model 'RandomForest' adıyla 'RandomForestModel.pkl' dosyasına kaydedildi.\n",
      "Model 'XGBoost' adıyla 'XGBoostModel.pkl' dosyasına kaydedildi.\n",
      "[LightGBM] [Info] Auto-choosing row-wise multi-threading, the overhead of testing was 0.005468 seconds.\n",
      "You can set `force_row_wise=true` to remove the overhead.\n",
      "And if memory is not enough, you can set `force_col_wise=true`.\n",
      "[LightGBM] [Info] Total Bins 836\n",
      "[LightGBM] [Info] Number of data points in the train set: 862709, number of used features: 6\n",
      "[LightGBM] [Info] Start training from score 10.358890\n",
      "Model 'LightGBM' adıyla 'LightGBMModel.pkl' dosyasına kaydedildi.\n",
      "+------------------+----------------------+---------------------+--------------------+\n",
      "|                  |         MSE          |         MAE         |         R2         |\n",
      "+------------------+----------------------+---------------------+--------------------+\n",
      "| LinearRegression | 0.06748200460447042  | 0.1985043304292142  | 0.7939705414244762 |\n",
      "|   RandomForest   | 0.021322821189729738 | 0.10736912697219313 | 0.9348992471285937 |\n",
      "|     XGBoost      | 0.02207371014130181  | 0.11241809664173394 | 0.9326067063979279 |\n",
      "|     LightGBM     | 0.02465858789628849  | 0.1190062030436386  | 0.9247148103663072 |\n",
      "+------------------+----------------------+---------------------+--------------------+\n"
     ]
    }
   ],
   "source": [
    "import pandas as pd\n",
    "import numpy as np\n",
    "from sklearn.linear_model import LinearRegression\n",
    "from sklearn.ensemble import RandomForestRegressor\n",
    "from xgboost import XGBRegressor\n",
    "from lightgbm import LGBMRegressor\n",
    "from sklearn.model_selection import train_test_split\n",
    "from sklearn.metrics import mean_squared_error, mean_absolute_error, r2_score\n",
    "from tabulate import tabulate\n",
    "import joblib\n",
    "\n",
    "df = pd.read_parquet(\"../PreprocessedData/dataLog.parquet\")\n",
    "\n",
    "# Özelliklerden 'Vehicle_Age' çıkarıldı\n",
    "X = df[['Power', 'Mileage', 'Brand_encoded', 'Model_encoded', 'Fuel_encoded', 'Transmission_Manual']]\n",
    "y = df['Price']\n",
    "\n",
    "X_train, X_test, y_train, y_test = train_test_split(X, y, test_size=0.2, random_state=42)\n",
    "\n",
    "models = {\n",
    "    \"LinearRegression\": LinearRegression(),\n",
    "    \"RandomForest\": RandomForestRegressor(n_estimators=100, random_state=42),\n",
    "    \"XGBoost\": XGBRegressor(n_estimators=100, random_state=42),\n",
    "    \"LightGBM\": LGBMRegressor(n_estimators=100, random_state=42)\n",
    "}\n",
    "\n",
    "results = {}\n",
    "\n",
    "for name, model in models.items():\n",
    "    model.fit(X_train, y_train)\n",
    "    \n",
    "    y_pred = model.predict(X_test)\n",
    "    \n",
    "    mse = mean_squared_error(y_test, y_pred)\n",
    "    mae = mean_absolute_error(y_test, y_pred)\n",
    "    r2 = r2_score(y_test, y_pred)\n",
    "    \n",
    "    results[name] = {\"MSE\": mse, \"MAE\": mae, \"R2\": r2}\n",
    "    \n",
    "    file_name = f\"{name}Model.pkl\"\n",
    "    joblib.dump(model, file_name)\n",
    "    print(f\"Model '{name}' adıyla '{file_name}' dosyasına kaydedildi.\")\n",
    "\n",
    "results_df = pd.DataFrame(results).T\n",
    "\n",
    "print(tabulate(results_df, headers=\"keys\", tablefmt=\"pretty\"))\n"
   ]
  },
  {
   "cell_type": "code",
   "execution_count": 2,
   "metadata": {},
   "outputs": [
    {
     "name": "stdout",
     "output_type": "stream",
     "text": [
      "Model: LinearRegression\n",
      "  Eğitim MSE: 0.0695, Test MSE: 0.0675\n",
      "  Eğitim R²: 0.7888, Test R²: 0.7940\n",
      "--------------------------------------------------\n",
      "Model: RandomForest\n",
      "  Eğitim MSE: 0.0055, Test MSE: 0.0213\n",
      "  Eğitim R²: 0.9833, Test R²: 0.9349\n",
      "--------------------------------------------------\n",
      "Model: XGBoost\n",
      "  Eğitim MSE: 0.0218, Test MSE: 0.0221\n",
      "  Eğitim R²: 0.9338, Test R²: 0.9326\n",
      "--------------------------------------------------\n",
      "Model: LightGBM\n",
      "  Eğitim MSE: 0.0246, Test MSE: 0.0247\n",
      "  Eğitim R²: 0.9252, Test R²: 0.9247\n",
      "--------------------------------------------------\n"
     ]
    }
   ],
   "source": [
    "# Eğitim ve test hatalarını hesaplama\n",
    "for name, model in models.items():\n",
    "    train_mse = mean_squared_error(y_train, model.predict(X_train))\n",
    "    test_mse = mean_squared_error(y_test, model.predict(X_test))\n",
    "    \n",
    "    train_r2 = model.score(X_train, y_train)\n",
    "    test_r2 = model.score(X_test, y_test)\n",
    "    \n",
    "    print(f\"Model: {name}\")\n",
    "    print(f\"  Eğitim MSE: {train_mse:.4f}, Test MSE: {test_mse:.4f}\")\n",
    "    print(f\"  Eğitim R²: {train_r2:.4f}, Test R²: {test_r2:.4f}\")\n",
    "    print(\"-\" * 50)\n"
   ]
  }
 ],
 "metadata": {
  "kernelspec": {
   "display_name": "venv",
   "language": "python",
   "name": "python3"
  },
  "language_info": {
   "codemirror_mode": {
    "name": "ipython",
    "version": 3
   },
   "file_extension": ".py",
   "mimetype": "text/x-python",
   "name": "python",
   "nbconvert_exporter": "python",
   "pygments_lexer": "ipython3",
   "version": "3.10.0"
  }
 },
 "nbformat": 4,
 "nbformat_minor": 2
}
